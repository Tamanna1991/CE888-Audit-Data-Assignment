{
  "cells": [
    {
      "cell_type": "code",
      "execution_count": 4,
      "metadata": {
        "id": "3oW9cvCPzyzx"
      },
      "outputs": [],
      "source": [
        "import pandas as pd\n",
        "import numpy as np\n",
        "import warnings\n",
        "warnings.filterwarnings(\"ignore\")\n",
        "import matplotlib.pyplot as plt\n",
        "import seaborn as sns\n",
        "from sklearn.model_selection import StratifiedKFold, GridSearchCV,train_test_split\n",
        "from sklearn.ensemble import RandomForestClassifier\n",
        "from sklearn.svm import SVC\n",
        "from sklearn.linear_model import LogisticRegression\n",
        "from sklearn.metrics._plot.confusion_matrix import ConfusionMatrixDisplay\n",
        "from sklearn.metrics import classification_report, confusion_matrix, f1_score, precision_score, recall_score, accuracy_score"
      ]
    },
    {
      "cell_type": "code",
      "execution_count": 5,
      "metadata": {
        "colab": {
          "base_uri": "https://localhost:8080/",
          "height": 299
        },
        "id": "eSwleEmez6R-",
        "outputId": "0d22462d-e67f-425a-a0a1-59e5a1a61ddd"
      },
      "outputs": [
        {
          "output_type": "execute_result",
          "data": {
            "text/plain": [
              "   Sector_score LOCATION_ID  PARA_A  Score_A  Risk_A  PARA_B  Score_B  Risk_B  \\\n",
              "0          3.89          23    4.18      0.6   2.508    2.50      0.2   0.500   \n",
              "1          3.89           6    0.00      0.2   0.000    4.83      0.2   0.966   \n",
              "2          3.89           6    0.51      0.2   0.102    0.23      0.2   0.046   \n",
              "3          3.89           6    0.00      0.2   0.000   10.80      0.6   6.480   \n",
              "4          3.89           6    0.00      0.2   0.000    0.08      0.2   0.016   \n",
              "\n",
              "   TOTAL  numbers  ...  RiSk_E  History  Prob  Risk_F  Score  Inherent_Risk  \\\n",
              "0   6.68      5.0  ...     0.4        0   0.2     0.0    2.4          8.574   \n",
              "1   4.83      5.0  ...     0.4        0   0.2     0.0    2.0          2.554   \n",
              "2   0.74      5.0  ...     0.4        0   0.2     0.0    2.0          1.548   \n",
              "3  10.80      6.0  ...     0.4        0   0.2     0.0    4.4         17.530   \n",
              "4   0.08      5.0  ...     0.4        0   0.2     0.0    2.0          1.416   \n",
              "\n",
              "   CONTROL_RISK  Detection_Risk  Audit_Risk  Risk  \n",
              "0           0.4             0.5      1.7148     1  \n",
              "1           0.4             0.5      0.5108     0  \n",
              "2           0.4             0.5      0.3096     0  \n",
              "3           0.4             0.5      3.5060     1  \n",
              "4           0.4             0.5      0.2832     0  \n",
              "\n",
              "[5 rows x 27 columns]"
            ],
            "text/html": [
              "\n",
              "  <div id=\"df-a3931ea3-ed8b-4e1f-8807-8fe7481a2048\">\n",
              "    <div class=\"colab-df-container\">\n",
              "      <div>\n",
              "<style scoped>\n",
              "    .dataframe tbody tr th:only-of-type {\n",
              "        vertical-align: middle;\n",
              "    }\n",
              "\n",
              "    .dataframe tbody tr th {\n",
              "        vertical-align: top;\n",
              "    }\n",
              "\n",
              "    .dataframe thead th {\n",
              "        text-align: right;\n",
              "    }\n",
              "</style>\n",
              "<table border=\"1\" class=\"dataframe\">\n",
              "  <thead>\n",
              "    <tr style=\"text-align: right;\">\n",
              "      <th></th>\n",
              "      <th>Sector_score</th>\n",
              "      <th>LOCATION_ID</th>\n",
              "      <th>PARA_A</th>\n",
              "      <th>Score_A</th>\n",
              "      <th>Risk_A</th>\n",
              "      <th>PARA_B</th>\n",
              "      <th>Score_B</th>\n",
              "      <th>Risk_B</th>\n",
              "      <th>TOTAL</th>\n",
              "      <th>numbers</th>\n",
              "      <th>...</th>\n",
              "      <th>RiSk_E</th>\n",
              "      <th>History</th>\n",
              "      <th>Prob</th>\n",
              "      <th>Risk_F</th>\n",
              "      <th>Score</th>\n",
              "      <th>Inherent_Risk</th>\n",
              "      <th>CONTROL_RISK</th>\n",
              "      <th>Detection_Risk</th>\n",
              "      <th>Audit_Risk</th>\n",
              "      <th>Risk</th>\n",
              "    </tr>\n",
              "  </thead>\n",
              "  <tbody>\n",
              "    <tr>\n",
              "      <th>0</th>\n",
              "      <td>3.89</td>\n",
              "      <td>23</td>\n",
              "      <td>4.18</td>\n",
              "      <td>0.6</td>\n",
              "      <td>2.508</td>\n",
              "      <td>2.50</td>\n",
              "      <td>0.2</td>\n",
              "      <td>0.500</td>\n",
              "      <td>6.68</td>\n",
              "      <td>5.0</td>\n",
              "      <td>...</td>\n",
              "      <td>0.4</td>\n",
              "      <td>0</td>\n",
              "      <td>0.2</td>\n",
              "      <td>0.0</td>\n",
              "      <td>2.4</td>\n",
              "      <td>8.574</td>\n",
              "      <td>0.4</td>\n",
              "      <td>0.5</td>\n",
              "      <td>1.7148</td>\n",
              "      <td>1</td>\n",
              "    </tr>\n",
              "    <tr>\n",
              "      <th>1</th>\n",
              "      <td>3.89</td>\n",
              "      <td>6</td>\n",
              "      <td>0.00</td>\n",
              "      <td>0.2</td>\n",
              "      <td>0.000</td>\n",
              "      <td>4.83</td>\n",
              "      <td>0.2</td>\n",
              "      <td>0.966</td>\n",
              "      <td>4.83</td>\n",
              "      <td>5.0</td>\n",
              "      <td>...</td>\n",
              "      <td>0.4</td>\n",
              "      <td>0</td>\n",
              "      <td>0.2</td>\n",
              "      <td>0.0</td>\n",
              "      <td>2.0</td>\n",
              "      <td>2.554</td>\n",
              "      <td>0.4</td>\n",
              "      <td>0.5</td>\n",
              "      <td>0.5108</td>\n",
              "      <td>0</td>\n",
              "    </tr>\n",
              "    <tr>\n",
              "      <th>2</th>\n",
              "      <td>3.89</td>\n",
              "      <td>6</td>\n",
              "      <td>0.51</td>\n",
              "      <td>0.2</td>\n",
              "      <td>0.102</td>\n",
              "      <td>0.23</td>\n",
              "      <td>0.2</td>\n",
              "      <td>0.046</td>\n",
              "      <td>0.74</td>\n",
              "      <td>5.0</td>\n",
              "      <td>...</td>\n",
              "      <td>0.4</td>\n",
              "      <td>0</td>\n",
              "      <td>0.2</td>\n",
              "      <td>0.0</td>\n",
              "      <td>2.0</td>\n",
              "      <td>1.548</td>\n",
              "      <td>0.4</td>\n",
              "      <td>0.5</td>\n",
              "      <td>0.3096</td>\n",
              "      <td>0</td>\n",
              "    </tr>\n",
              "    <tr>\n",
              "      <th>3</th>\n",
              "      <td>3.89</td>\n",
              "      <td>6</td>\n",
              "      <td>0.00</td>\n",
              "      <td>0.2</td>\n",
              "      <td>0.000</td>\n",
              "      <td>10.80</td>\n",
              "      <td>0.6</td>\n",
              "      <td>6.480</td>\n",
              "      <td>10.80</td>\n",
              "      <td>6.0</td>\n",
              "      <td>...</td>\n",
              "      <td>0.4</td>\n",
              "      <td>0</td>\n",
              "      <td>0.2</td>\n",
              "      <td>0.0</td>\n",
              "      <td>4.4</td>\n",
              "      <td>17.530</td>\n",
              "      <td>0.4</td>\n",
              "      <td>0.5</td>\n",
              "      <td>3.5060</td>\n",
              "      <td>1</td>\n",
              "    </tr>\n",
              "    <tr>\n",
              "      <th>4</th>\n",
              "      <td>3.89</td>\n",
              "      <td>6</td>\n",
              "      <td>0.00</td>\n",
              "      <td>0.2</td>\n",
              "      <td>0.000</td>\n",
              "      <td>0.08</td>\n",
              "      <td>0.2</td>\n",
              "      <td>0.016</td>\n",
              "      <td>0.08</td>\n",
              "      <td>5.0</td>\n",
              "      <td>...</td>\n",
              "      <td>0.4</td>\n",
              "      <td>0</td>\n",
              "      <td>0.2</td>\n",
              "      <td>0.0</td>\n",
              "      <td>2.0</td>\n",
              "      <td>1.416</td>\n",
              "      <td>0.4</td>\n",
              "      <td>0.5</td>\n",
              "      <td>0.2832</td>\n",
              "      <td>0</td>\n",
              "    </tr>\n",
              "  </tbody>\n",
              "</table>\n",
              "<p>5 rows × 27 columns</p>\n",
              "</div>\n",
              "      <button class=\"colab-df-convert\" onclick=\"convertToInteractive('df-a3931ea3-ed8b-4e1f-8807-8fe7481a2048')\"\n",
              "              title=\"Convert this dataframe to an interactive table.\"\n",
              "              style=\"display:none;\">\n",
              "        \n",
              "  <svg xmlns=\"http://www.w3.org/2000/svg\" height=\"24px\"viewBox=\"0 0 24 24\"\n",
              "       width=\"24px\">\n",
              "    <path d=\"M0 0h24v24H0V0z\" fill=\"none\"/>\n",
              "    <path d=\"M18.56 5.44l.94 2.06.94-2.06 2.06-.94-2.06-.94-.94-2.06-.94 2.06-2.06.94zm-11 1L8.5 8.5l.94-2.06 2.06-.94-2.06-.94L8.5 2.5l-.94 2.06-2.06.94zm10 10l.94 2.06.94-2.06 2.06-.94-2.06-.94-.94-2.06-.94 2.06-2.06.94z\"/><path d=\"M17.41 7.96l-1.37-1.37c-.4-.4-.92-.59-1.43-.59-.52 0-1.04.2-1.43.59L10.3 9.45l-7.72 7.72c-.78.78-.78 2.05 0 2.83L4 21.41c.39.39.9.59 1.41.59.51 0 1.02-.2 1.41-.59l7.78-7.78 2.81-2.81c.8-.78.8-2.07 0-2.86zM5.41 20L4 18.59l7.72-7.72 1.47 1.35L5.41 20z\"/>\n",
              "  </svg>\n",
              "      </button>\n",
              "      \n",
              "  <style>\n",
              "    .colab-df-container {\n",
              "      display:flex;\n",
              "      flex-wrap:wrap;\n",
              "      gap: 12px;\n",
              "    }\n",
              "\n",
              "    .colab-df-convert {\n",
              "      background-color: #E8F0FE;\n",
              "      border: none;\n",
              "      border-radius: 50%;\n",
              "      cursor: pointer;\n",
              "      display: none;\n",
              "      fill: #1967D2;\n",
              "      height: 32px;\n",
              "      padding: 0 0 0 0;\n",
              "      width: 32px;\n",
              "    }\n",
              "\n",
              "    .colab-df-convert:hover {\n",
              "      background-color: #E2EBFA;\n",
              "      box-shadow: 0px 1px 2px rgba(60, 64, 67, 0.3), 0px 1px 3px 1px rgba(60, 64, 67, 0.15);\n",
              "      fill: #174EA6;\n",
              "    }\n",
              "\n",
              "    [theme=dark] .colab-df-convert {\n",
              "      background-color: #3B4455;\n",
              "      fill: #D2E3FC;\n",
              "    }\n",
              "\n",
              "    [theme=dark] .colab-df-convert:hover {\n",
              "      background-color: #434B5C;\n",
              "      box-shadow: 0px 1px 3px 1px rgba(0, 0, 0, 0.15);\n",
              "      filter: drop-shadow(0px 1px 2px rgba(0, 0, 0, 0.3));\n",
              "      fill: #FFFFFF;\n",
              "    }\n",
              "  </style>\n",
              "\n",
              "      <script>\n",
              "        const buttonEl =\n",
              "          document.querySelector('#df-a3931ea3-ed8b-4e1f-8807-8fe7481a2048 button.colab-df-convert');\n",
              "        buttonEl.style.display =\n",
              "          google.colab.kernel.accessAllowed ? 'block' : 'none';\n",
              "\n",
              "        async function convertToInteractive(key) {\n",
              "          const element = document.querySelector('#df-a3931ea3-ed8b-4e1f-8807-8fe7481a2048');\n",
              "          const dataTable =\n",
              "            await google.colab.kernel.invokeFunction('convertToInteractive',\n",
              "                                                     [key], {});\n",
              "          if (!dataTable) return;\n",
              "\n",
              "          const docLinkHtml = 'Like what you see? Visit the ' +\n",
              "            '<a target=\"_blank\" href=https://colab.research.google.com/notebooks/data_table.ipynb>data table notebook</a>'\n",
              "            + ' to learn more about interactive tables.';\n",
              "          element.innerHTML = '';\n",
              "          dataTable['output_type'] = 'display_data';\n",
              "          await google.colab.output.renderOutput(dataTable, element);\n",
              "          const docLink = document.createElement('div');\n",
              "          docLink.innerHTML = docLinkHtml;\n",
              "          element.appendChild(docLink);\n",
              "        }\n",
              "      </script>\n",
              "    </div>\n",
              "  </div>\n",
              "  "
            ]
          },
          "metadata": {},
          "execution_count": 5
        }
      ],
      "source": [
        "#load data\n",
        "df_audit=pd.read_csv('/content/audit_risk.csv')\n",
        "df_audit.head()"
      ]
    },
    {
      "cell_type": "code",
      "execution_count": 6,
      "metadata": {
        "colab": {
          "base_uri": "https://localhost:8080/"
        },
        "id": "TZ9Tlt3v0UR-",
        "outputId": "a01d0ef1-71cf-4367-c4a0-17a31eff5d85"
      },
      "outputs": [
        {
          "output_type": "stream",
          "name": "stdout",
          "text": [
            "<class 'pandas.core.frame.DataFrame'>\n",
            "RangeIndex: 776 entries, 0 to 775\n",
            "Data columns (total 27 columns):\n",
            " #   Column          Non-Null Count  Dtype  \n",
            "---  ------          --------------  -----  \n",
            " 0   Sector_score    776 non-null    float64\n",
            " 1   LOCATION_ID     776 non-null    object \n",
            " 2   PARA_A          776 non-null    float64\n",
            " 3   Score_A         776 non-null    float64\n",
            " 4   Risk_A          776 non-null    float64\n",
            " 5   PARA_B          776 non-null    float64\n",
            " 6   Score_B         776 non-null    float64\n",
            " 7   Risk_B          776 non-null    float64\n",
            " 8   TOTAL           776 non-null    float64\n",
            " 9   numbers         776 non-null    float64\n",
            " 10  Score_B.1       776 non-null    float64\n",
            " 11  Risk_C          776 non-null    float64\n",
            " 12  Money_Value     775 non-null    float64\n",
            " 13  Score_MV        776 non-null    float64\n",
            " 14  Risk_D          776 non-null    float64\n",
            " 15  District_Loss   776 non-null    int64  \n",
            " 16  PROB            776 non-null    float64\n",
            " 17  RiSk_E          776 non-null    float64\n",
            " 18  History         776 non-null    int64  \n",
            " 19  Prob            776 non-null    float64\n",
            " 20  Risk_F          776 non-null    float64\n",
            " 21  Score           776 non-null    float64\n",
            " 22  Inherent_Risk   776 non-null    float64\n",
            " 23  CONTROL_RISK    776 non-null    float64\n",
            " 24  Detection_Risk  776 non-null    float64\n",
            " 25  Audit_Risk      776 non-null    float64\n",
            " 26  Risk            776 non-null    int64  \n",
            "dtypes: float64(23), int64(3), object(1)\n",
            "memory usage: 163.8+ KB\n"
          ]
        }
      ],
      "source": [
        "df_audit.info()"
      ]
    },
    {
      "cell_type": "code",
      "execution_count": 7,
      "metadata": {
        "colab": {
          "base_uri": "https://localhost:8080/",
          "height": 393
        },
        "id": "0xQZ7VR60ewy",
        "outputId": "35c87aa9-be75-4e80-feae-ccee91f0218c"
      },
      "outputs": [
        {
          "output_type": "execute_result",
          "data": {
            "text/plain": [
              "       Sector_score      PARA_A     Score_A      Risk_A       PARA_B  \\\n",
              "count    776.000000  776.000000  776.000000  776.000000   776.000000   \n",
              "mean      20.184536    2.450194    0.351289    1.351029    10.799988   \n",
              "std       24.319017    5.678870    0.174055    3.440447    50.083624   \n",
              "min        1.850000    0.000000    0.200000    0.000000     0.000000   \n",
              "25%        2.370000    0.210000    0.200000    0.042000     0.000000   \n",
              "50%        3.890000    0.875000    0.200000    0.175000     0.405000   \n",
              "75%       55.570000    2.480000    0.600000    1.488000     4.160000   \n",
              "max       59.850000   85.000000    0.600000   51.000000  1264.630000   \n",
              "\n",
              "          Score_B      Risk_B        TOTAL     numbers   Score_B.1  ...  \\\n",
              "count  776.000000  776.000000   776.000000  776.000000  776.000000  ...   \n",
              "mean     0.313144    6.334008    13.218481    5.067655    0.223711  ...   \n",
              "std      0.169804   30.072845    51.312829    0.264449    0.080352  ...   \n",
              "min      0.200000    0.000000     0.000000    5.000000    0.200000  ...   \n",
              "25%      0.200000    0.000000     0.537500    5.000000    0.200000  ...   \n",
              "50%      0.200000    0.081000     1.370000    5.000000    0.200000  ...   \n",
              "75%      0.400000    1.840500     7.707500    5.000000    0.200000  ...   \n",
              "max      0.600000  758.778000  1268.910000    9.000000    0.600000  ...   \n",
              "\n",
              "           RiSk_E     History        Prob      Risk_F       Score  \\\n",
              "count  776.000000  776.000000  776.000000  776.000000  776.000000   \n",
              "mean     0.519072    0.104381    0.216753    0.053608    2.702577   \n",
              "std      0.290312    0.531031    0.067987    0.305835    0.858923   \n",
              "min      0.400000    0.000000    0.200000    0.000000    2.000000   \n",
              "25%      0.400000    0.000000    0.200000    0.000000    2.000000   \n",
              "50%      0.400000    0.000000    0.200000    0.000000    2.400000   \n",
              "75%      0.400000    0.000000    0.200000    0.000000    3.250000   \n",
              "max      2.400000    9.000000    0.600000    5.400000    5.200000   \n",
              "\n",
              "       Inherent_Risk  CONTROL_RISK  Detection_Risk  Audit_Risk        Risk  \n",
              "count     776.000000    776.000000           776.0  776.000000  776.000000  \n",
              "mean       17.680612      0.572680             0.5    7.168158    0.393041  \n",
              "std        54.740244      0.444581             0.0   38.667494    0.488741  \n",
              "min         1.400000      0.400000             0.5    0.280000    0.000000  \n",
              "25%         1.583500      0.400000             0.5    0.316700    0.000000  \n",
              "50%         2.214000      0.400000             0.5    0.555600    0.000000  \n",
              "75%        10.663500      0.400000             0.5    3.249900    1.000000  \n",
              "max       801.262000      5.800000             0.5  961.514400    1.000000  \n",
              "\n",
              "[8 rows x 26 columns]"
            ],
            "text/html": [
              "\n",
              "  <div id=\"df-5eed7391-a268-49a4-b60e-67f0559cd9ed\">\n",
              "    <div class=\"colab-df-container\">\n",
              "      <div>\n",
              "<style scoped>\n",
              "    .dataframe tbody tr th:only-of-type {\n",
              "        vertical-align: middle;\n",
              "    }\n",
              "\n",
              "    .dataframe tbody tr th {\n",
              "        vertical-align: top;\n",
              "    }\n",
              "\n",
              "    .dataframe thead th {\n",
              "        text-align: right;\n",
              "    }\n",
              "</style>\n",
              "<table border=\"1\" class=\"dataframe\">\n",
              "  <thead>\n",
              "    <tr style=\"text-align: right;\">\n",
              "      <th></th>\n",
              "      <th>Sector_score</th>\n",
              "      <th>PARA_A</th>\n",
              "      <th>Score_A</th>\n",
              "      <th>Risk_A</th>\n",
              "      <th>PARA_B</th>\n",
              "      <th>Score_B</th>\n",
              "      <th>Risk_B</th>\n",
              "      <th>TOTAL</th>\n",
              "      <th>numbers</th>\n",
              "      <th>Score_B.1</th>\n",
              "      <th>...</th>\n",
              "      <th>RiSk_E</th>\n",
              "      <th>History</th>\n",
              "      <th>Prob</th>\n",
              "      <th>Risk_F</th>\n",
              "      <th>Score</th>\n",
              "      <th>Inherent_Risk</th>\n",
              "      <th>CONTROL_RISK</th>\n",
              "      <th>Detection_Risk</th>\n",
              "      <th>Audit_Risk</th>\n",
              "      <th>Risk</th>\n",
              "    </tr>\n",
              "  </thead>\n",
              "  <tbody>\n",
              "    <tr>\n",
              "      <th>count</th>\n",
              "      <td>776.000000</td>\n",
              "      <td>776.000000</td>\n",
              "      <td>776.000000</td>\n",
              "      <td>776.000000</td>\n",
              "      <td>776.000000</td>\n",
              "      <td>776.000000</td>\n",
              "      <td>776.000000</td>\n",
              "      <td>776.000000</td>\n",
              "      <td>776.000000</td>\n",
              "      <td>776.000000</td>\n",
              "      <td>...</td>\n",
              "      <td>776.000000</td>\n",
              "      <td>776.000000</td>\n",
              "      <td>776.000000</td>\n",
              "      <td>776.000000</td>\n",
              "      <td>776.000000</td>\n",
              "      <td>776.000000</td>\n",
              "      <td>776.000000</td>\n",
              "      <td>776.0</td>\n",
              "      <td>776.000000</td>\n",
              "      <td>776.000000</td>\n",
              "    </tr>\n",
              "    <tr>\n",
              "      <th>mean</th>\n",
              "      <td>20.184536</td>\n",
              "      <td>2.450194</td>\n",
              "      <td>0.351289</td>\n",
              "      <td>1.351029</td>\n",
              "      <td>10.799988</td>\n",
              "      <td>0.313144</td>\n",
              "      <td>6.334008</td>\n",
              "      <td>13.218481</td>\n",
              "      <td>5.067655</td>\n",
              "      <td>0.223711</td>\n",
              "      <td>...</td>\n",
              "      <td>0.519072</td>\n",
              "      <td>0.104381</td>\n",
              "      <td>0.216753</td>\n",
              "      <td>0.053608</td>\n",
              "      <td>2.702577</td>\n",
              "      <td>17.680612</td>\n",
              "      <td>0.572680</td>\n",
              "      <td>0.5</td>\n",
              "      <td>7.168158</td>\n",
              "      <td>0.393041</td>\n",
              "    </tr>\n",
              "    <tr>\n",
              "      <th>std</th>\n",
              "      <td>24.319017</td>\n",
              "      <td>5.678870</td>\n",
              "      <td>0.174055</td>\n",
              "      <td>3.440447</td>\n",
              "      <td>50.083624</td>\n",
              "      <td>0.169804</td>\n",
              "      <td>30.072845</td>\n",
              "      <td>51.312829</td>\n",
              "      <td>0.264449</td>\n",
              "      <td>0.080352</td>\n",
              "      <td>...</td>\n",
              "      <td>0.290312</td>\n",
              "      <td>0.531031</td>\n",
              "      <td>0.067987</td>\n",
              "      <td>0.305835</td>\n",
              "      <td>0.858923</td>\n",
              "      <td>54.740244</td>\n",
              "      <td>0.444581</td>\n",
              "      <td>0.0</td>\n",
              "      <td>38.667494</td>\n",
              "      <td>0.488741</td>\n",
              "    </tr>\n",
              "    <tr>\n",
              "      <th>min</th>\n",
              "      <td>1.850000</td>\n",
              "      <td>0.000000</td>\n",
              "      <td>0.200000</td>\n",
              "      <td>0.000000</td>\n",
              "      <td>0.000000</td>\n",
              "      <td>0.200000</td>\n",
              "      <td>0.000000</td>\n",
              "      <td>0.000000</td>\n",
              "      <td>5.000000</td>\n",
              "      <td>0.200000</td>\n",
              "      <td>...</td>\n",
              "      <td>0.400000</td>\n",
              "      <td>0.000000</td>\n",
              "      <td>0.200000</td>\n",
              "      <td>0.000000</td>\n",
              "      <td>2.000000</td>\n",
              "      <td>1.400000</td>\n",
              "      <td>0.400000</td>\n",
              "      <td>0.5</td>\n",
              "      <td>0.280000</td>\n",
              "      <td>0.000000</td>\n",
              "    </tr>\n",
              "    <tr>\n",
              "      <th>25%</th>\n",
              "      <td>2.370000</td>\n",
              "      <td>0.210000</td>\n",
              "      <td>0.200000</td>\n",
              "      <td>0.042000</td>\n",
              "      <td>0.000000</td>\n",
              "      <td>0.200000</td>\n",
              "      <td>0.000000</td>\n",
              "      <td>0.537500</td>\n",
              "      <td>5.000000</td>\n",
              "      <td>0.200000</td>\n",
              "      <td>...</td>\n",
              "      <td>0.400000</td>\n",
              "      <td>0.000000</td>\n",
              "      <td>0.200000</td>\n",
              "      <td>0.000000</td>\n",
              "      <td>2.000000</td>\n",
              "      <td>1.583500</td>\n",
              "      <td>0.400000</td>\n",
              "      <td>0.5</td>\n",
              "      <td>0.316700</td>\n",
              "      <td>0.000000</td>\n",
              "    </tr>\n",
              "    <tr>\n",
              "      <th>50%</th>\n",
              "      <td>3.890000</td>\n",
              "      <td>0.875000</td>\n",
              "      <td>0.200000</td>\n",
              "      <td>0.175000</td>\n",
              "      <td>0.405000</td>\n",
              "      <td>0.200000</td>\n",
              "      <td>0.081000</td>\n",
              "      <td>1.370000</td>\n",
              "      <td>5.000000</td>\n",
              "      <td>0.200000</td>\n",
              "      <td>...</td>\n",
              "      <td>0.400000</td>\n",
              "      <td>0.000000</td>\n",
              "      <td>0.200000</td>\n",
              "      <td>0.000000</td>\n",
              "      <td>2.400000</td>\n",
              "      <td>2.214000</td>\n",
              "      <td>0.400000</td>\n",
              "      <td>0.5</td>\n",
              "      <td>0.555600</td>\n",
              "      <td>0.000000</td>\n",
              "    </tr>\n",
              "    <tr>\n",
              "      <th>75%</th>\n",
              "      <td>55.570000</td>\n",
              "      <td>2.480000</td>\n",
              "      <td>0.600000</td>\n",
              "      <td>1.488000</td>\n",
              "      <td>4.160000</td>\n",
              "      <td>0.400000</td>\n",
              "      <td>1.840500</td>\n",
              "      <td>7.707500</td>\n",
              "      <td>5.000000</td>\n",
              "      <td>0.200000</td>\n",
              "      <td>...</td>\n",
              "      <td>0.400000</td>\n",
              "      <td>0.000000</td>\n",
              "      <td>0.200000</td>\n",
              "      <td>0.000000</td>\n",
              "      <td>3.250000</td>\n",
              "      <td>10.663500</td>\n",
              "      <td>0.400000</td>\n",
              "      <td>0.5</td>\n",
              "      <td>3.249900</td>\n",
              "      <td>1.000000</td>\n",
              "    </tr>\n",
              "    <tr>\n",
              "      <th>max</th>\n",
              "      <td>59.850000</td>\n",
              "      <td>85.000000</td>\n",
              "      <td>0.600000</td>\n",
              "      <td>51.000000</td>\n",
              "      <td>1264.630000</td>\n",
              "      <td>0.600000</td>\n",
              "      <td>758.778000</td>\n",
              "      <td>1268.910000</td>\n",
              "      <td>9.000000</td>\n",
              "      <td>0.600000</td>\n",
              "      <td>...</td>\n",
              "      <td>2.400000</td>\n",
              "      <td>9.000000</td>\n",
              "      <td>0.600000</td>\n",
              "      <td>5.400000</td>\n",
              "      <td>5.200000</td>\n",
              "      <td>801.262000</td>\n",
              "      <td>5.800000</td>\n",
              "      <td>0.5</td>\n",
              "      <td>961.514400</td>\n",
              "      <td>1.000000</td>\n",
              "    </tr>\n",
              "  </tbody>\n",
              "</table>\n",
              "<p>8 rows × 26 columns</p>\n",
              "</div>\n",
              "      <button class=\"colab-df-convert\" onclick=\"convertToInteractive('df-5eed7391-a268-49a4-b60e-67f0559cd9ed')\"\n",
              "              title=\"Convert this dataframe to an interactive table.\"\n",
              "              style=\"display:none;\">\n",
              "        \n",
              "  <svg xmlns=\"http://www.w3.org/2000/svg\" height=\"24px\"viewBox=\"0 0 24 24\"\n",
              "       width=\"24px\">\n",
              "    <path d=\"M0 0h24v24H0V0z\" fill=\"none\"/>\n",
              "    <path d=\"M18.56 5.44l.94 2.06.94-2.06 2.06-.94-2.06-.94-.94-2.06-.94 2.06-2.06.94zm-11 1L8.5 8.5l.94-2.06 2.06-.94-2.06-.94L8.5 2.5l-.94 2.06-2.06.94zm10 10l.94 2.06.94-2.06 2.06-.94-2.06-.94-.94-2.06-.94 2.06-2.06.94z\"/><path d=\"M17.41 7.96l-1.37-1.37c-.4-.4-.92-.59-1.43-.59-.52 0-1.04.2-1.43.59L10.3 9.45l-7.72 7.72c-.78.78-.78 2.05 0 2.83L4 21.41c.39.39.9.59 1.41.59.51 0 1.02-.2 1.41-.59l7.78-7.78 2.81-2.81c.8-.78.8-2.07 0-2.86zM5.41 20L4 18.59l7.72-7.72 1.47 1.35L5.41 20z\"/>\n",
              "  </svg>\n",
              "      </button>\n",
              "      \n",
              "  <style>\n",
              "    .colab-df-container {\n",
              "      display:flex;\n",
              "      flex-wrap:wrap;\n",
              "      gap: 12px;\n",
              "    }\n",
              "\n",
              "    .colab-df-convert {\n",
              "      background-color: #E8F0FE;\n",
              "      border: none;\n",
              "      border-radius: 50%;\n",
              "      cursor: pointer;\n",
              "      display: none;\n",
              "      fill: #1967D2;\n",
              "      height: 32px;\n",
              "      padding: 0 0 0 0;\n",
              "      width: 32px;\n",
              "    }\n",
              "\n",
              "    .colab-df-convert:hover {\n",
              "      background-color: #E2EBFA;\n",
              "      box-shadow: 0px 1px 2px rgba(60, 64, 67, 0.3), 0px 1px 3px 1px rgba(60, 64, 67, 0.15);\n",
              "      fill: #174EA6;\n",
              "    }\n",
              "\n",
              "    [theme=dark] .colab-df-convert {\n",
              "      background-color: #3B4455;\n",
              "      fill: #D2E3FC;\n",
              "    }\n",
              "\n",
              "    [theme=dark] .colab-df-convert:hover {\n",
              "      background-color: #434B5C;\n",
              "      box-shadow: 0px 1px 3px 1px rgba(0, 0, 0, 0.15);\n",
              "      filter: drop-shadow(0px 1px 2px rgba(0, 0, 0, 0.3));\n",
              "      fill: #FFFFFF;\n",
              "    }\n",
              "  </style>\n",
              "\n",
              "      <script>\n",
              "        const buttonEl =\n",
              "          document.querySelector('#df-5eed7391-a268-49a4-b60e-67f0559cd9ed button.colab-df-convert');\n",
              "        buttonEl.style.display =\n",
              "          google.colab.kernel.accessAllowed ? 'block' : 'none';\n",
              "\n",
              "        async function convertToInteractive(key) {\n",
              "          const element = document.querySelector('#df-5eed7391-a268-49a4-b60e-67f0559cd9ed');\n",
              "          const dataTable =\n",
              "            await google.colab.kernel.invokeFunction('convertToInteractive',\n",
              "                                                     [key], {});\n",
              "          if (!dataTable) return;\n",
              "\n",
              "          const docLinkHtml = 'Like what you see? Visit the ' +\n",
              "            '<a target=\"_blank\" href=https://colab.research.google.com/notebooks/data_table.ipynb>data table notebook</a>'\n",
              "            + ' to learn more about interactive tables.';\n",
              "          element.innerHTML = '';\n",
              "          dataTable['output_type'] = 'display_data';\n",
              "          await google.colab.output.renderOutput(dataTable, element);\n",
              "          const docLink = document.createElement('div');\n",
              "          docLink.innerHTML = docLinkHtml;\n",
              "          element.appendChild(docLink);\n",
              "        }\n",
              "      </script>\n",
              "    </div>\n",
              "  </div>\n",
              "  "
            ]
          },
          "metadata": {},
          "execution_count": 7
        }
      ],
      "source": [
        "df_audit.describe()"
      ]
    },
    {
      "cell_type": "code",
      "execution_count": null,
      "metadata": {
        "id": "otek1Cffbx62"
      },
      "outputs": [],
      "source": []
    },
    {
      "cell_type": "code",
      "execution_count": 8,
      "metadata": {
        "id": "k2NCmxuTDZOx"
      },
      "outputs": [],
      "source": [
        "# Seperating Train and Test data\n",
        "df_train,df_test=train_test_split(df_audit,test_size=0.20,random_state=40,stratify=df_audit['Risk'])"
      ]
    },
    {
      "cell_type": "code",
      "execution_count": 9,
      "metadata": {
        "colab": {
          "base_uri": "https://localhost:8080/",
          "height": 409
        },
        "id": "cdLgHMm3BxUT",
        "outputId": "e89e1506-c30a-4928-c31a-3be0e2d3b905"
      },
      "outputs": [
        {
          "output_type": "execute_result",
          "data": {
            "text/plain": [
              "<matplotlib.axes._subplots.AxesSubplot at 0x7ff7c35b30a0>"
            ]
          },
          "metadata": {},
          "execution_count": 9
        },
        {
          "output_type": "display_data",
          "data": {
            "text/plain": [
              "<Figure size 1080x432 with 1 Axes>"
            ],
            "image/png": "[encoded data removed]"
          },
          "metadata": {
            "needs_background": "light"
          }
        }
      ],
      "source": [
        "df_audit[\"LOCATION_ID\"].value_counts()[:20].plot(\n",
        "    kind=\"bar\", figsize=(15, 6), xlabel=\"Locations_Id\", ylabel=\"Number of Risks\"\n",
        ")"
      ]
    },
    {
      "cell_type": "code",
      "execution_count": null,
      "metadata": {
        "id": "jPT-PLVpbvpW"
      },
      "outputs": [],
      "source": []
    },
    {
      "cell_type": "markdown",
      "metadata": {
        "id": "DFfts_mh3jK1"
      },
      "source": [
        "# Feature Selection"
      ]
    },
    {
      "cell_type": "code",
      "execution_count": 10,
      "metadata": {
        "id": "DPW5z1_S5JJi"
      },
      "outputs": [],
      "source": [
        "def get_correlated_features_df(dataframe:pd.DataFrame,target:str):\n",
        "  \"\"\"This function finds the best correlated features with the target variable.\n",
        "\n",
        "  Args:\n",
        "  dataframe (pd.Dataframe) : raw cleaned dataframe on which correlation has to be made.\n",
        "  target (str): Target Column name on which most correlated features are selected.\n",
        "\n",
        "  Return:\n",
        "  pd.DataFrame: A dataframe with correlated features with the target variable. \n",
        "  \"\"\"\n",
        "  df_corr=dataframe.corr()\n",
        "  columns_set_1=df_corr[df_corr[target]>0.4].index.tolist()\n",
        "  df_1=dataframe[columns_set_1]\n",
        "  print(\"Highly Correlated Features: \\n\",df_1.columns)\n",
        "  return df_1"
      ]
    },
    {
      "cell_type": "code",
      "execution_count": 11,
      "metadata": {
        "id": "2tuGGCYo7jPJ"
      },
      "outputs": [],
      "source": [
        "def remove_multi_collinearity(dataframe,target):\n",
        "  \"\"\"This function remove the multi collinear columns from the dataframe.\n",
        "\n",
        "  Args:\n",
        "  dataframe (pd.Dataframe) : raw cleaned dataframe on which multi collinearity has to be removed.\n",
        "  target (str): Target Column \n",
        "\n",
        "  Return:\n",
        "  pd.DataFrame: A dataframe without multi collinear features. \n",
        "  \"\"\"\n",
        "  df_corr=dataframe.drop(target,axis=1).corr().abs()\n",
        "  upper_tri = df_corr.where(np.triu(np.ones(df_corr.shape),k=1).astype(bool))\n",
        "  to_drop = [column for column in upper_tri.columns if any(upper_tri[column] > 0.9)]\n",
        "  print(\"\\nColumns to be dropped: \\n\",to_drop)\n",
        "  df_final=dataframe.drop(to_drop,axis=1)\n",
        "  print(\"\\nColumns in the dataframe after Feature Selection: \\n\", df_final.columns)\n",
        "  return df_final,df_final.columns"
      ]
    },
    {
      "cell_type": "code",
      "execution_count": 12,
      "metadata": {
        "colab": {
          "base_uri": "https://localhost:8080/"
        },
        "id": "K7d-x3HZ7D2F",
        "outputId": "0dd132f2-51f9-4279-cece-b3d73e90f9a6"
      },
      "outputs": [
        {
          "output_type": "stream",
          "name": "stdout",
          "text": [
            "Highly Correlated Features: \n",
            " Index(['Score_A', 'Risk_A', 'Score_B', 'Score_MV', 'District_Loss', 'RiSk_E',\n",
            "       'Score', 'CONTROL_RISK', 'Risk'],\n",
            "      dtype='object')\n",
            "\n",
            "Columns to be dropped: \n",
            " ['RiSk_E']\n",
            "\n",
            "Columns in the dataframe after Feature Selection: \n",
            " Index(['Score_A', 'Risk_A', 'Score_B', 'Score_MV', 'District_Loss', 'Score',\n",
            "       'CONTROL_RISK', 'Risk'],\n",
            "      dtype='object')\n"
          ]
        }
      ],
      "source": [
        "df_train_1=get_correlated_features_df(df_train,'Risk')\n",
        "df_train_final,final_columns=remove_multi_collinearity(df_train_1,'Risk')"
      ]
    },
    {
      "cell_type": "markdown",
      "metadata": {
        "id": "ScS76ix386Lt"
      },
      "source": [
        "# Analytics"
      ]
    },
    {
      "cell_type": "code",
      "execution_count": 13,
      "metadata": {
        "colab": {
          "base_uri": "https://localhost:8080/",
          "height": 312
        },
        "id": "8YlFwFPB89Q5",
        "outputId": "01ba0b9e-167c-40a4-a384-1fc053958c50"
      },
      "outputs": [
        {
          "output_type": "execute_result",
          "data": {
            "text/plain": [
              "[]"
            ]
          },
          "metadata": {},
          "execution_count": 13
        },
        {
          "output_type": "display_data",
          "data": {
            "text/plain": [
              "<Figure size 432x288 with 1 Axes>"
            ],
            "image/png": "[encoded data removed]"
          },
          "metadata": {
            "needs_background": "light"
          }
        }
      ],
      "source": [
        "#y_variable count plot\n",
        "sns.countplot(data=df_train_final,x='Risk')\n",
        "plt.title(\"Risk value count plot\")\n",
        "plt.savefig('y_variable_count_plot.png')\n",
        "plt.plot()"
      ]
    },
    {
      "cell_type": "code",
      "execution_count": null,
      "metadata": {
        "id": "jcF8_bml89cv"
      },
      "outputs": [],
      "source": []
    },
    {
      "cell_type": "code",
      "execution_count": 14,
      "metadata": {
        "colab": {
          "base_uri": "https://localhost:8080/",
          "height": 364
        },
        "id": "Q82zZ5k989gX",
        "outputId": "8c69b53a-c601-4dc3-fe92-194772504cd6"
      },
      "outputs": [
        {
          "output_type": "execute_result",
          "data": {
            "text/plain": [
              "[]"
            ]
          },
          "metadata": {},
          "execution_count": 14
        },
        {
          "output_type": "display_data",
          "data": {
            "text/plain": [
              "<Figure size 432x288 with 2 Axes>"
            ],
            "image/png": "[encoded data removed]"
          },
          "metadata": {
            "needs_background": "light"
          }
        }
      ],
      "source": [
        "#correlation matrix\n",
        "sns.heatmap(df_train_final.corr(),annot=True,cmap=\"jet\")\n",
        "plt.title(\"Correlation Matrix\")\n",
        "plt.savefig(\"correlation_matrix.png\")\n",
        "plt.plot()"
      ]
    },
    {
      "cell_type": "code",
      "execution_count": null,
      "metadata": {
        "id": "K1nzyoX289kR"
      },
      "outputs": [],
      "source": []
    },
    {
      "cell_type": "markdown",
      "metadata": {
        "id": "zibZ9Ess3D8w"
      },
      "source": [
        "# Modelling"
      ]
    },
    {
      "cell_type": "code",
      "execution_count": 15,
      "metadata": {
        "id": "guBfK5xSYQUV"
      },
      "outputs": [],
      "source": [
        "def stratified_results(x:np.array,y:np.array):\n",
        "  \"\"\"This function performs Stratified K fold using RandomForestClassifier.\n",
        "  Args:\n",
        "  x(np.array): Independent variables.\n",
        "  y(np.array): Dependent variable\n",
        "\n",
        "  Print:\n",
        "  Max,min,mean and std on calculated accuracies\n",
        "  \"\"\"\n",
        "  skf = StratifiedKFold(n_splits=5)\n",
        "  accuracy_lst = []\n",
        "  rf=RandomForestClassifier()\n",
        "  for train_index, test_index in skf.split(x, y):\n",
        "    x_train_fold, x_test_fold = x[train_index], x[test_index]\n",
        "    y_train_fold, y_test_fold = y[train_index], y[test_index]\n",
        "    rf.fit(x_train_fold, y_train_fold)\n",
        "    accuracy_lst.append(rf.score(x_test_fold, y_test_fold))\n",
        "  print(\"Maximum of Accuracies\",max(accuracy_lst))\n",
        "  print(\"Minimum of Accuracies\",min(accuracy_lst))\n",
        "  print(\"Mean of Accuracies: \", np.mean(accuracy_lst))\n",
        "  print(\"Standard deviation of Accuracies\", np.std(accuracy_lst))\n",
        "  print()\n",
        "\n",
        "def get_evaluation(y_test:pd.Series,test_predict:np.array,model_name:str,ev_type:str):\n",
        "  \"\"\"This model performs evaluations like accuracy,recall,precision,f1 score and confusion matrix\n",
        "  Args:\n",
        "  y_test(pd.Series): Actual target variable.\n",
        "  test_predict(np.array): Predicted target variable.\n",
        "  model_name(str): Name of the model by which confusion matrix plot has to saved.\n",
        "  ev_type(str): Evaluation type(train or test)\n",
        "  Print/plot:\n",
        "  Print accuracy,recall,precision,f1 score, plot and save confusion matrix.\n",
        "  \"\"\"\n",
        "  print(\"\\nAccuracy:\",accuracy_score(y_test,test_predict))\n",
        "  print(\"Recall: \",recall_score(y_test,test_predict))\n",
        "  print(\"Precision: \",precision_score(y_test,test_predict))\n",
        "  print(\"F1_score: \",f1_score(y_test,test_predict))\n",
        "  cf=classification_report(y_test,test_predict)\n",
        "  \n",
        "  print(\"\\nClassification Report:\")\n",
        "  print(\"\\n\",cf)\n",
        "  cm=confusion_matrix(y_test,test_predict)\n",
        "  cm_plot=ConfusionMatrixDisplay(cm)\n",
        "  cm_plot.plot()\n",
        "  plt.title(model_name.__name__+\" \"+ev_type+\" Confusion Matrix\")\n",
        "  plt.savefig(model_name.__name__+\"_\"+ev_type+\"_confusion_matrix.png\")\n",
        "  plt.show()\n",
        "  print()\n",
        "\n",
        "def get_tuning_predictions(x_train:pd.DataFrame,y_train:pd.Series,x_test:pd.DataFrame,y_test:pd.Series,model_name:str,param_grid:dict):\n",
        "  \"\"\"This function do the find tuning and use get_evaluation function to do evaluation on the train and test prediction.\n",
        "  Args:\n",
        "  x_train(pd.Dataframe): Training independent variables data.\n",
        "  y_train(pd.Series): Training dependent/target variable. \n",
        "  x_test(pd.Dataframe): Testing independent variables data\n",
        "  y_train(pd.Series): Testing dependent/target variable.\n",
        "  model_name(str): Name of the model.\n",
        "  param_grid(dict): Dictionary of parameter on which parameter tuning has to be performed.\n",
        "\n",
        "  Print:\n",
        "  Print best parameters, evaluation on train and test predictions\n",
        "  \"\"\"\n",
        "  gs_model=GridSearchCV(model_name(),param_grid=param_grid,scoring='accuracy',cv=10,verbose=1)\n",
        "  gs_model.fit(x_train,y_train)\n",
        "  \n",
        "  res_model=model_name(**gs_model.best_params_)\n",
        "  print(f'\\nBest parameters for {model_name.__name__} after hyper parameter tuning\\n',gs_model.best_params_)\n",
        "  res_model.fit(x_train,y_train)\n",
        "  print(\"\\nEvaluation on Train Data\")\n",
        "  train_predict=res_model.predict(x_train)\n",
        "  get_evaluation(y_train,train_predict,model_name,'train')\n",
        "  test_predict=res_model.predict(x_test)\n",
        "  print(\"\\nEvaluation on Test Data \")\n",
        "  get_evaluation(y_test,test_predict,model_name,'test')\n",
        "  return"
      ]
    },
    {
      "cell_type": "code",
      "execution_count": 18,
      "metadata": {
        "id": "0zkJKAgfe1Fg"
      },
      "outputs": [],
      "source": [
        "def on_screen():\n",
        "  \"\"\"Prints Menu on the screen\n",
        "  \"\"\"\n",
        "  print(\"Choose from the below available models\")\n",
        "  print(\"1. Random Forest with StratifiedKFold\")\n",
        "  print(\"2. Random Forest\")\n",
        "  print(\"3. SVM\")\n",
        "  print(\"4. Logistic Regression\")\n",
        "  print(\"5. Exit Function\")\n",
        "def get_results(df_train:pd.DataFrame,df_test:pd.DataFrame,target:str):\n",
        "  \"\"\"This function is a menu driven function which performs desired training as mentioned in the menu.\n",
        "  This function used above function to perform the chosen training,\n",
        "  1. Random Forest with Stratified Kfold\n",
        "  Grid Search- Hyperparameter Tuning:\n",
        "  2. Random Forest\n",
        "  3. SVM\n",
        "  4. Logistic Regression\n",
        "  5. Exit Function\n",
        "\n",
        "  Args:\n",
        "  df_train(pd.DataFrame): Training Data\n",
        "  df_test(pd.DataFrame): Test Data\n",
        "  target(str): Target Variable \n",
        "\n",
        "  \"\"\"\n",
        "  choice=1\n",
        "  while(choice!=5):\n",
        "    on_screen()\n",
        "    choice=int(input(\"Enter your choice. Eg: 1,2,3: \\n\"))\n",
        "    x_train=df_train.drop(target,axis=1)\n",
        "    y_train=df_train[target]\n",
        "    x_test=df_test.drop(target,axis=1)\n",
        "    y_test=df_test[target]\n",
        "\n",
        "    if(choice==1):\n",
        "      print(\"StratifiedKFold Results:\\n\")\n",
        "      stratified_results(pd.concat([x_train,x_test]).values,pd.concat([y_train,y_test]).values)\n",
        "    \n",
        "    elif(choice==2):\n",
        "      param_grid_rf={'n_estimators': [25,50,75,100],\n",
        "               'max_features': ['auto','sqrt'],\n",
        "               'max_depth': [3,5,7,9],\n",
        "                'bootstrap': [True, False]}\n",
        "      print(\"\\nRandomForest Results:\\n\")\n",
        "      get_tuning_predictions(x_train,y_train,x_test,y_test,RandomForestClassifier,param_grid_rf)\n",
        "    \n",
        "    elif(choice==3):\n",
        "      param_grid_svm = {'C': [0.1, 1, 10, 100, 1000], \n",
        "              'gamma': [ 0.1, 0.01, 0.001, 0.0001],\n",
        "              'kernel': ['rbf','poly']}\n",
        "      print(\"\\nSVM Results:\\n\")\n",
        "      get_tuning_predictions(x_train,y_train,x_test,y_test,SVC,param_grid_svm)\n",
        "    \n",
        "    elif(choice==4):\n",
        "      param_grid_lr={'solver': ['newton-cg', 'lbfgs', 'sag', 'saga'],\n",
        "                    'penalty':['elasticnet', 'l1', 'l2'], \n",
        "                     'C': [0.001,0.01,0.1,1]}\n",
        "      print(\"\\nLogistic Regression Results:\\n\")\n",
        "      get_tuning_predictions(x_train,y_train,x_test,y_test,LogisticRegression,param_grid_lr)\n",
        "  \n",
        "  if(choice==5):\n",
        "    return "
      ]
    },
    {
      "cell_type": "code",
      "execution_count": 19,
      "metadata": {
        "colab": {
          "base_uri": "https://localhost:8080/",
          "height": 1000
        },
        "id": "35-duhGyiIAR",
        "outputId": "8007506c-bb88-4b58-d4bf-cb6fc1d40336"
      },
      "outputs": [
        {
          "metadata": {
            "tags": null
          },
          "name": "stdout",
          "output_type": "stream",
          "text": [
            "Choose from the below available models\n",
            "1. Random Forest with StratifiedKFold\n",
            "2. Random Forest\n",
            "3. SVM\n",
            "4. Logistic Regression\n",
            "5. Exit Function\n",
            "StratifiedKFold Results:\n",
            "\n",
            "Maximum of Accuracies 0.9935897435897436\n",
            "Minimum of Accuracies 0.967741935483871\n",
            "Mean of Accuracies:  0.9729114971050455\n",
            "Standard deviation of Accuracies 0.010339123242349047\n",
            "\n",
            "Choose from the below available models\n",
            "1. Random Forest with StratifiedKFold\n",
            "2. Random Forest\n",
            "3. SVM\n",
            "4. Logistic Regression\n",
            "5. Exit Function\n",
            "\n",
            "RandomForest Results:\n",
            "\n",
            "Fitting 10 folds for each of 64 candidates, totalling 640 fits\n",
            "\n",
            "Best parameters for RandomForestClassifier after hyper parameter tuning\n",
            " {'bootstrap': False, 'max_depth': 3, 'max_features': 'auto', 'n_estimators': 25}\n",
            "\n",
            "Evaluation on Train Data\n",
            "\n",
            "Accuracy: 0.9790322580645161\n",
            "Recall:  0.9672131147540983\n",
            "Precision:  0.979253112033195\n",
            "F1_score:  0.9731958762886597\n",
            "\n",
            "Classification Report:\n",
            "\n",
            "               precision    recall  f1-score   support\n",
            "\n",
            "           0       0.98      0.99      0.98       376\n",
            "           1       0.98      0.97      0.97       244\n",
            "\n",
            "    accuracy                           0.98       620\n",
            "   macro avg       0.98      0.98      0.98       620\n",
            "weighted avg       0.98      0.98      0.98       620\n",
            "\n"
          ]
        },
        {
          "data": {
            "image/png": "[encoded data removed]",
            "text/plain": [
              "<Figure size 432x288 with 2 Axes>"
            ]
          },
          "metadata": {},
          "output_type": "display_data"
        },
        {
          "metadata": {
            "tags": null
          },
          "name": "stdout",
          "output_type": "stream",
          "text": [
            "\n",
            "\n",
            "Evaluation on Test Data \n",
            "\n",
            "Accuracy: 0.9743589743589743\n",
            "Recall:  0.9344262295081968\n",
            "Precision:  1.0\n",
            "F1_score:  0.9661016949152543\n",
            "\n",
            "Classification Report:\n",
            "\n",
            "               precision    recall  f1-score   support\n",
            "\n",
            "           0       0.96      1.00      0.98        95\n",
            "           1       1.00      0.93      0.97        61\n",
            "\n",
            "    accuracy                           0.97       156\n",
            "   macro avg       0.98      0.97      0.97       156\n",
            "weighted avg       0.98      0.97      0.97       156\n",
            "\n"
          ]
        },
        {
          "data": {
            "image/png": "[encoded data removed]",
            "text/plain": [
              "<Figure size 432x288 with 2 Axes>"
            ]
          },
          "metadata": {},
          "output_type": "display_data"
        },
        {
          "metadata": {
            "tags": null
          },
          "name": "stdout",
          "output_type": "stream",
          "text": [
            "\n",
            "Choose from the below available models\n",
            "1. Random Forest with StratifiedKFold\n",
            "2. Random Forest\n",
            "3. SVM\n",
            "4. Logistic Regression\n",
            "5. Exit Function\n",
            "\n",
            "SVM Results:\n",
            "\n",
            "Fitting 10 folds for each of 40 candidates, totalling 400 fits\n",
            "\n",
            "Best parameters for SVC after hyper parameter tuning\n",
            " {'C': 100, 'gamma': 0.1, 'kernel': 'rbf'}\n",
            "\n",
            "Evaluation on Train Data\n",
            "\n",
            "Accuracy: 0.9790322580645161\n",
            "Recall:  0.9631147540983607\n",
            "Precision:  0.9832635983263598\n",
            "F1_score:  0.9730848861283643\n",
            "\n",
            "Classification Report:\n",
            "\n",
            "               precision    recall  f1-score   support\n",
            "\n",
            "           0       0.98      0.99      0.98       376\n",
            "           1       0.98      0.96      0.97       244\n",
            "\n",
            "    accuracy                           0.98       620\n",
            "   macro avg       0.98      0.98      0.98       620\n",
            "weighted avg       0.98      0.98      0.98       620\n",
            "\n"
          ]
        },
        {
          "data": {
            "image/png": "[encoded data removed]",
            "text/plain": [
              "<Figure size 432x288 with 2 Axes>"
            ]
          },
          "metadata": {},
          "output_type": "display_data"
        },
        {
          "metadata": {
            "tags": null
          },
          "name": "stdout",
          "output_type": "stream",
          "text": [
            "\n",
            "\n",
            "Evaluation on Test Data \n",
            "\n",
            "Accuracy: 0.9807692307692307\n",
            "Recall:  0.9508196721311475\n",
            "Precision:  1.0\n",
            "F1_score:  0.9747899159663865\n",
            "\n",
            "Classification Report:\n",
            "\n",
            "               precision    recall  f1-score   support\n",
            "\n",
            "           0       0.97      1.00      0.98        95\n",
            "           1       1.00      0.95      0.97        61\n",
            "\n",
            "    accuracy                           0.98       156\n",
            "   macro avg       0.98      0.98      0.98       156\n",
            "weighted avg       0.98      0.98      0.98       156\n",
            "\n"
          ]
        },
        {
          "data": {
            "image/png": "[encoded data removed]",
            "text/plain": [
              "<Figure size 432x288 with 2 Axes>"
            ]
          },
          "metadata": {},
          "output_type": "display_data"
        },
        {
          "metadata": {
            "tags": null
          },
          "name": "stdout",
          "output_type": "stream",
          "text": [
            "\n",
            "Choose from the below available models\n",
            "1. Random Forest with StratifiedKFold\n",
            "2. Random Forest\n",
            "3. SVM\n",
            "4. Logistic Regression\n",
            "5. Exit Function\n",
            "\n",
            "Logistic Regression Results:\n",
            "\n",
            "Fitting 10 folds for each of 48 candidates, totalling 480 fits\n",
            "\n",
            "Best parameters for LogisticRegression after hyper parameter tuning\n",
            " {'C': 1, 'penalty': 'l2', 'solver': 'newton-cg'}\n",
            "\n",
            "Evaluation on Train Data\n",
            "\n",
            "Accuracy: 0.95\n",
            "Recall:  0.9098360655737705\n",
            "Precision:  0.961038961038961\n",
            "F1_score:  0.9347368421052632\n",
            "\n",
            "Classification Report:\n",
            "\n",
            "               precision    recall  f1-score   support\n",
            "\n",
            "           0       0.94      0.98      0.96       376\n",
            "           1       0.96      0.91      0.93       244\n",
            "\n",
            "    accuracy                           0.95       620\n",
            "   macro avg       0.95      0.94      0.95       620\n",
            "weighted avg       0.95      0.95      0.95       620\n",
            "\n"
          ]
        },
        {
          "data": {
            "image/png": "[encoded data removed]",
            "text/plain": [
              "<Figure size 432x288 with 2 Axes>"
            ]
          },
          "metadata": {},
          "output_type": "display_data"
        },
        {
          "metadata": {
            "tags": null
          },
          "name": "stdout",
          "output_type": "stream",
          "text": [
            "\n",
            "\n",
            "Evaluation on Test Data \n",
            "\n",
            "Accuracy: 0.9615384615384616\n",
            "Recall:  0.9016393442622951\n",
            "Precision:  1.0\n",
            "F1_score:  0.9482758620689655\n",
            "\n",
            "Classification Report:\n",
            "\n",
            "               precision    recall  f1-score   support\n",
            "\n",
            "           0       0.94      1.00      0.97        95\n",
            "           1       1.00      0.90      0.95        61\n",
            "\n",
            "    accuracy                           0.96       156\n",
            "   macro avg       0.97      0.95      0.96       156\n",
            "weighted avg       0.96      0.96      0.96       156\n",
            "\n"
          ]
        },
        {
          "data": {
            "image/png": "[encoded data removed]",
            "text/plain": [
              "<Figure size 432x288 with 2 Axes>"
            ]
          },
          "metadata": {},
          "output_type": "display_data"
        },
        {
          "name": "stdout",
          "output_type": "stream",
          "text": [
            "\n",
            "Choose from the below available models\n",
            "1. Random Forest with StratifiedKFold\n",
            "2. Random Forest\n",
            "3. SVM\n",
            "4. Logistic Regression\n",
            "5. Exit Function\n",
            "Enter your choice. Eg: 1,2,3: \n",
            "5\n"
          ]
        }
      ],
      "source": [
        "df_test_final=df_test[final_columns.tolist()]\n",
        "get_results(df_train_final,df_test_final,'Risk')"
      ]
    },
    {
      "cell_type": "code",
      "execution_count": null,
      "metadata": {
        "id": "WT8GvM5N1cSa"
      },
      "outputs": [],
      "source": []
    },
    {
      "cell_type": "code",
      "execution_count": null,
      "metadata": {
        "id": "rAQGqCgyHUG4"
      },
      "outputs": [],
      "source": []
    }
  ],
  "metadata": {
    "colab": {
      "provenance": []
    },
    "kernelspec": {
      "display_name": "Python 3",
      "name": "python3"
    },
    "language_info": {
      "name": "python"
    }
  },
  "nbformat": 4,
  "nbformat_minor": 0
}